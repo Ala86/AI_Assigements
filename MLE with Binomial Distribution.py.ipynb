{
 "cells": [
  {
   "cell_type": "code",
   "execution_count": null,
   "metadata": {
    "vscode": {
     "languageId": "plaintext"
    }
   },
   "outputs": [],
   "source": [
    "import numpy as np\n",
    "from scipy.optimize import minimize\n",
    "\n",
    "# Step 1: Define the likelihood function for the binomial distribution\n",
    "def binomial_log_likelihood(p, k, n):\n",
    "    if p <= 0 or p >= 1:  # Log-likelihood is not defined for p <= 0 or p >= 1\n",
    "        return -np.inf\n",
    "    return k * np.log(p) + (n - k) * np.log(1 - p)\n",
    "\n",
    "# Example data: Number of trials (n) and number of successes (k)\n",
    "n = 100  # Number of trials\n",
    "k = 75   # Number of successes\n",
    "\n",
    "# Step 2: Use a minimization function to maximize the log-likelihood\n",
    "# We minimize the negative log-likelihood since minimization is easier to implement\n",
    "result = minimize(\n",
    "    lambda p: -binomial_log_likelihood(p[0], k, n),  # Negative log-likelihood\n",
    "    x0=[0.5],                                       # Initial guess for p\n",
    "    bounds=[(0.001, 0.999)]                         # Bounds for p\n",
    ")\n",
    "\n",
    "# Estimated value of p (MLE)\n",
    "if result.success:\n",
    "    p_mle = result.x[0]\n",
    "    print(f\"Estimated p (MLE): {p_mle}\")\n",
    "else:\n",
    "    print(\"Optimization failed.\")\n"
   ]
  }
 ],
 "metadata": {
  "language_info": {
   "name": "python"
  }
 },
 "nbformat": 4,
 "nbformat_minor": 2
}
